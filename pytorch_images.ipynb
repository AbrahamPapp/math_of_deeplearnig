{
 "cells": [
  {
   "cell_type": "code",
   "execution_count": 1,
   "metadata": {},
   "outputs": [],
   "source": [
    "import torch"
   ]
  },
  {
   "cell_type": "code",
   "execution_count": 3,
   "metadata": {},
   "outputs": [],
   "source": [
    "X = torch.tensor(\n",
    "    [\n",
    "        [0.11, 0.09], [0.01, 0.02], [0.98, 0.91],\n",
    "        [0.12, 0.21], [0.98, 0.99], [0.85, 0.87],\n",
    "        [0.03, 0.14], [0.55, 0.45]\n",
    "    ]\n",
    ")"
   ]
  },
  {
   "cell_type": "code",
   "execution_count": 5,
   "metadata": {},
   "outputs": [
    {
     "name": "stdout",
     "output_type": "stream",
     "text": [
      "Shape of the matrix is: torch.Size([8, 2])\n"
     ]
    }
   ],
   "source": [
    "print('Shape of the matrix is: {}'.format(X.shape))"
   ]
  },
  {
   "cell_type": "code",
   "execution_count": 6,
   "metadata": {},
   "outputs": [
    {
     "data": {
      "text/plain": [
       "tensor(0.1100)"
      ]
     },
     "execution_count": 6,
     "metadata": {},
     "output_type": "execute_result"
    }
   ],
   "source": [
    "first_element = X[0, 0]\n",
    "first_element"
   ]
  },
  {
   "cell_type": "code",
   "execution_count": 7,
   "metadata": {},
   "outputs": [],
   "source": [
    "row_0 = X[0, :]\n",
    "row_1 = X[1, 0:2]"
   ]
  },
  {
   "cell_type": "code",
   "execution_count": 9,
   "metadata": {},
   "outputs": [
    {
     "data": {
      "text/plain": [
       "tensor([0.0100, 0.0200])"
      ]
     },
     "execution_count": 9,
     "metadata": {},
     "output_type": "execute_result"
    }
   ],
   "source": [
    "row_1"
   ]
  },
  {
   "cell_type": "code",
   "execution_count": 10,
   "metadata": {},
   "outputs": [],
   "source": [
    "column_0 = X[:, 0]\n",
    "column_1 = X[:, 1]"
   ]
  },
  {
   "cell_type": "code",
   "execution_count": 11,
   "metadata": {},
   "outputs": [
    {
     "data": {
      "text/plain": [
       "tensor([0.0900, 0.0200, 0.9100, 0.2100, 0.9900, 0.8700, 0.1400, 0.4500])"
      ]
     },
     "execution_count": 11,
     "metadata": {},
     "output_type": "execute_result"
    }
   ],
   "source": [
    "column_1"
   ]
  },
  {
   "cell_type": "code",
   "execution_count": 14,
   "metadata": {},
   "outputs": [
    {
     "data": {
      "text/plain": [
       "tensor([[0.1100, 0.0900],\n",
       "        [0.0100, 0.0200],\n",
       "        [0.9800, 0.9100]])"
      ]
     },
     "execution_count": 14,
     "metadata": {},
     "output_type": "execute_result"
    }
   ],
   "source": [
    "first_3_training_examples = X[:3, ]\n",
    "first_3_training_examples"
   ]
  },
  {
   "cell_type": "code",
   "execution_count": 15,
   "metadata": {},
   "outputs": [],
   "source": [
    "tensor = torch.rand((5, 5, 3))"
   ]
  },
  {
   "cell_type": "code",
   "execution_count": 16,
   "metadata": {},
   "outputs": [
    {
     "data": {
      "text/plain": [
       "tensor([[[0.7292, 0.6640, 0.8984],\n",
       "         [0.6424, 0.0054, 0.6714],\n",
       "         [0.7395, 0.3256, 0.8304],\n",
       "         [0.0653, 0.4802, 0.7203],\n",
       "         [0.1808, 0.1040, 0.4352]],\n",
       "\n",
       "        [[0.5276, 0.9262, 0.4828],\n",
       "         [0.4380, 0.3802, 0.2100],\n",
       "         [0.4244, 0.3562, 0.7351],\n",
       "         [0.5862, 0.8580, 0.2319],\n",
       "         [0.8254, 0.3029, 0.9074]],\n",
       "\n",
       "        [[0.0952, 0.6888, 0.2561],\n",
       "         [0.5717, 0.0918, 0.1049],\n",
       "         [0.5357, 0.5755, 0.0105],\n",
       "         [0.9329, 0.3754, 0.4517],\n",
       "         [0.3292, 0.9300, 0.0961]],\n",
       "\n",
       "        [[0.8063, 0.2289, 0.1417],\n",
       "         [0.2932, 0.2113, 0.7237],\n",
       "         [0.7114, 0.3214, 0.2164],\n",
       "         [0.3038, 0.8151, 0.0240],\n",
       "         [0.2302, 0.9180, 0.3264]],\n",
       "\n",
       "        [[0.5586, 0.9223, 0.3527],\n",
       "         [0.5965, 0.2697, 0.4561],\n",
       "         [0.3462, 0.4444, 0.5632],\n",
       "         [0.7113, 0.8629, 0.7076],\n",
       "         [0.2911, 0.0214, 0.0229]]])"
      ]
     },
     "execution_count": 16,
     "metadata": {},
     "output_type": "execute_result"
    }
   ],
   "source": [
    "tensor"
   ]
  },
  {
   "cell_type": "code",
   "execution_count": 17,
   "metadata": {},
   "outputs": [],
   "source": [
    "I49 = torch.tensor(\n",
    "    [\n",
    "        [0, 8, 16, 24, 32, 40, 48, 56, 64],\n",
    "        [64, 72, 80, 88, 96, 104, 112, 120, 128],\n",
    "        [128, 136, 144, 152, 160, 168, 176, 184, 192],\n",
    "        [192, 200, 208, 216, 224, 232, 240, 248, 255]\n",
    "    ],\n",
    ")"
   ]
  },
  {
   "cell_type": "code",
   "execution_count": 18,
   "metadata": {},
   "outputs": [
    {
     "data": {
      "text/plain": [
       "tensor([[  0,   8,  16,  24,  32,  40,  48,  56,  64],\n",
       "        [ 64,  72,  80,  88,  96, 104, 112, 120, 128],\n",
       "        [128, 136, 144, 152, 160, 168, 176, 184, 192],\n",
       "        [192, 200, 208, 216, 224, 232, 240, 248, 255]])"
      ]
     },
     "execution_count": 18,
     "metadata": {},
     "output_type": "execute_result"
    }
   ],
   "source": [
    "I49"
   ]
  },
  {
   "cell_type": "code",
   "execution_count": 19,
   "metadata": {},
   "outputs": [],
   "source": [
    "I49 = torch.stack(\n",
    "    [\n",
    "        torch.arange(0, 72, 8), \n",
    "        torch.arange(64, 136, 8),\n",
    "        torch.arange(128, 200, 8), \n",
    "        torch.arange(192, 264, 8),\n",
    "    ]\n",
    ")"
   ]
  },
  {
   "cell_type": "code",
   "execution_count": 20,
   "metadata": {},
   "outputs": [
    {
     "data": {
      "text/plain": [
       "tensor([[  0,   8,  16,  24,  32,  40,  48,  56,  64],\n",
       "        [ 64,  72,  80,  88,  96, 104, 112, 120, 128],\n",
       "        [128, 136, 144, 152, 160, 168, 176, 184, 192],\n",
       "        [192, 200, 208, 216, 224, 232, 240, 248, 256]])"
      ]
     },
     "execution_count": 20,
     "metadata": {},
     "output_type": "execute_result"
    }
   ],
   "source": [
    "I49"
   ]
  },
  {
   "cell_type": "code",
   "execution_count": 22,
   "metadata": {},
   "outputs": [
    {
     "data": {
      "text/plain": [
       "(4, 9)"
      ]
     },
     "execution_count": 22,
     "metadata": {},
     "output_type": "execute_result"
    }
   ],
   "source": [
    "I49.shape[0], I49.shape[1]"
   ]
  },
  {
   "cell_type": "code",
   "execution_count": 21,
   "metadata": {},
   "outputs": [],
   "source": [
    "I49_t = torch.transpose(I49, 0, 1)\n",
    "\n",
    "for i in range(0, I49.shape[0]):\n",
    "    for j in range(0, I49.shape[1]):\n",
    "        assert I49[i][j] == I49_t[j][i]"
   ]
  },
  {
   "cell_type": "code",
   "execution_count": 23,
   "metadata": {},
   "outputs": [],
   "source": [
    "assert torch.allclose(I49_t, I49.T, 1e-5)"
   ]
  },
  {
   "cell_type": "code",
   "execution_count": 24,
   "metadata": {},
   "outputs": [
    {
     "name": "stdout",
     "output_type": "stream",
     "text": [
      "Dot product of these two vectors is: 32\n"
     ]
    }
   ],
   "source": [
    "a = torch.tensor([1, 2, 3])\n",
    "b = torch.tensor([4, 5, 6])\n",
    "a_dot_b = torch.dot(a, b)\n",
    "print('Dot product of these two vectors is: {}'.format(a_dot_b))"
   ]
  },
  {
   "cell_type": "code",
   "execution_count": 25,
   "metadata": {},
   "outputs": [
    {
     "name": "stdout",
     "output_type": "stream",
     "text": [
      "Example dot product of orthogonal vectors: 0\n"
     ]
    }
   ],
   "source": [
    "# Dot product of perpendicular vectors is zero\n",
    "vx = torch.tensor([1, 0]) # a vector along X-axis\n",
    "vy = torch.tensor([0, 1]) # a vector along Y-axis\n",
    "print('Example dot product of orthogonal vectors: {}'.format(torch.dot(vx, vy)))"
   ]
  },
  {
   "cell_type": "code",
   "execution_count": 26,
   "metadata": {},
   "outputs": [],
   "source": [
    "X = torch.tensor(\n",
    "    [\n",
    "        [0.11, 0.09], \n",
    "        [0.01, 0.02], \n",
    "        [0.98, 0.91], \n",
    "        [0.12, 0.21],\n",
    "        [0.98, 0.99], \n",
    "        [0.85, 0.87], \n",
    "        [0.03, 0.14], \n",
    "        [0.55, 0.45],\n",
    "        [0.49, 0.51], \n",
    "        [0.99, 0.01], \n",
    "        [0.02, 0.89], \n",
    "        [0.31, 0.47],\n",
    "        [0.55, 0.29], \n",
    "        [0.87, 0.76], \n",
    "        [0.63, 0.24]\n",
    "    ]\n",
    ")"
   ]
  },
  {
   "cell_type": "code",
   "execution_count": 27,
   "metadata": {},
   "outputs": [],
   "source": [
    "w = torch.rand((2, 1))\n",
    "b = 5.0"
   ]
  },
  {
   "cell_type": "code",
   "execution_count": 29,
   "metadata": {},
   "outputs": [
    {
     "data": {
      "text/plain": [
       "tensor([[0.8222],\n",
       "        [0.6739]])"
      ]
     },
     "execution_count": 29,
     "metadata": {},
     "output_type": "execute_result"
    }
   ],
   "source": [
    "w"
   ]
  },
  {
   "cell_type": "code",
   "execution_count": 30,
   "metadata": {},
   "outputs": [
    {
     "data": {
      "text/plain": [
       "tensor([[5.1511],\n",
       "        [5.0217],\n",
       "        [6.4190],\n",
       "        [5.2402],\n",
       "        [6.4729],\n",
       "        [6.2851],\n",
       "        [5.1190],\n",
       "        [5.7554],\n",
       "        [5.7466],\n",
       "        [5.8207],\n",
       "        [5.6162],\n",
       "        [5.5716],\n",
       "        [5.6476],\n",
       "        [6.2275],\n",
       "        [5.6797]])"
      ]
     },
     "execution_count": 30,
     "metadata": {},
     "output_type": "execute_result"
    }
   ],
   "source": [
    "y = torch.matmul(X, w) + b\n",
    "y"
   ]
  },
  {
   "cell_type": "code",
   "execution_count": 31,
   "metadata": {},
   "outputs": [],
   "source": [
    "A = torch.tensor([[1, 2], [3, 4], [5, 6]])\n",
    "B = torch.tensor([[7, 8], [9, 10]])"
   ]
  },
  {
   "cell_type": "code",
   "execution_count": 32,
   "metadata": {},
   "outputs": [],
   "source": [
    "C = torch.matmul(A, B)"
   ]
  },
  {
   "cell_type": "code",
   "execution_count": 36,
   "metadata": {},
   "outputs": [],
   "source": [
    "w = torch.tensor([1, 2, 3])\n",
    "x = torch.tensor([4, 5, 6])\n",
    "assert torch.dot(w, x) == torch.matmul(w.T, x)"
   ]
  },
  {
   "cell_type": "code",
   "execution_count": 37,
   "metadata": {},
   "outputs": [],
   "source": [
    "assert torch.all(torch.matmul(A, B).T == torch.matmul(B.T, A.T))"
   ]
  },
  {
   "cell_type": "code",
   "execution_count": 38,
   "metadata": {},
   "outputs": [],
   "source": [
    "assert torch.all(torch.matmul(A.T, x).T == torch.matmul(x.T, A))"
   ]
  },
  {
   "cell_type": "code",
   "execution_count": 39,
   "metadata": {},
   "outputs": [],
   "source": [
    "def determinant(A):\n",
    "    return torch.linalg.det(A)\n",
    "\n",
    "def inverse(A):\n",
    "    return torch.linalg.inv(A)"
   ]
  },
  {
   "cell_type": "code",
   "execution_count": 60,
   "metadata": {},
   "outputs": [
    {
     "data": {
      "text/plain": [
       "tensor([[2., 3.],\n",
       "        [3., 2.]])"
      ]
     },
     "execution_count": 60,
     "metadata": {},
     "output_type": "execute_result"
    }
   ],
   "source": [
    "A = torch.tensor([[2, 3], [3, 2]], dtype=torch.float)\n",
    "A"
   ]
  },
  {
   "cell_type": "code",
   "execution_count": 61,
   "metadata": {},
   "outputs": [
    {
     "data": {
      "text/plain": [
       "tensor([[-0.4000,  0.6000],\n",
       "        [ 0.6000, -0.4000]])"
      ]
     },
     "execution_count": 61,
     "metadata": {},
     "output_type": "execute_result"
    }
   ],
   "source": [
    "A_inv = inverse(A)\n",
    "A_inv"
   ]
  },
  {
   "cell_type": "code",
   "execution_count": 62,
   "metadata": {},
   "outputs": [
    {
     "data": {
      "text/plain": [
       "tensor([[1., 0.],\n",
       "        [0., 1.]])"
      ]
     },
     "execution_count": 62,
     "metadata": {},
     "output_type": "execute_result"
    }
   ],
   "source": [
    "I = torch.eye(2)\n",
    "I"
   ]
  },
  {
   "cell_type": "code",
   "execution_count": 63,
   "metadata": {},
   "outputs": [],
   "source": [
    "assert torch.allclose(torch.matmul(A, A_inv), I, 1e-1)\n",
    "assert torch.allclose(torch.matmul(A_inv, A), I, 1e-5)"
   ]
  },
  {
   "cell_type": "code",
   "execution_count": 64,
   "metadata": {},
   "outputs": [],
   "source": [
    "assert torch.all(torch.matmul(I, A) == A)\n",
    "assert torch.all(A == torch.matmul(A,I))"
   ]
  },
  {
   "cell_type": "code",
   "execution_count": 66,
   "metadata": {},
   "outputs": [
    {
     "data": {
      "text/plain": [
       "tensor([[1., 1.],\n",
       "        [2., 2.]])"
      ]
     },
     "execution_count": 66,
     "metadata": {},
     "output_type": "execute_result"
    }
   ],
   "source": [
    "B = torch.tensor([[1, 1], [2, 2]], dtype=torch.float)\n",
    "B"
   ]
  },
  {
   "cell_type": "code",
   "execution_count": 67,
   "metadata": {},
   "outputs": [
    {
     "name": "stdout",
     "output_type": "stream",
     "text": [
      "B cannot be inverted: tensor([[1., 1.],\n",
      "        [2., 2.]])\n"
     ]
    }
   ],
   "source": [
    "try:\n",
    "    B_inv = inverse(B)\n",
    "except RuntimeError as e:\n",
    "    print('B cannot be inverted: {}'.format(B, e))"
   ]
  },
  {
   "cell_type": "code",
   "execution_count": null,
   "metadata": {},
   "outputs": [],
   "source": [
    "def pseudo_inverse(A):\n",
    "    return torch.matmul(torch.linalg.inv(torch.matmul(A.T, A)), A.T)"
   ]
  }
 ],
 "metadata": {
  "kernelspec": {
   "display_name": "test_env_jupyter",
   "language": "python",
   "name": "python3"
  },
  "language_info": {
   "codemirror_mode": {
    "name": "ipython",
    "version": 3
   },
   "file_extension": ".py",
   "mimetype": "text/x-python",
   "name": "python",
   "nbconvert_exporter": "python",
   "pygments_lexer": "ipython3",
   "version": "3.10.13"
  }
 },
 "nbformat": 4,
 "nbformat_minor": 2
}
